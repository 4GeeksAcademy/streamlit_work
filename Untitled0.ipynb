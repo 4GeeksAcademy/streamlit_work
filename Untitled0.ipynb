{
  "cells": [
    {
      "cell_type": "markdown",
      "metadata": {
        "id": "view-in-github",
        "colab_type": "text"
      },
      "source": [
        "<a href=\"https://colab.research.google.com/github/4GeeksAcademy/streamlit_work/blob/main/Untitled0.ipynb\" target=\"_parent\"><img src=\"https://colab.research.google.com/assets/colab-badge.svg\" alt=\"Open In Colab\"/></a>"
      ]
    },
    {
      "cell_type": "code",
      "execution_count": null,
      "metadata": {
        "colab": {
          "base_uri": "https://localhost:8080/"
        },
        "id": "VdiICh9Mptj1",
        "outputId": "8eadd328-91b4-4aab-ae57-3a68cd0ada37",
        "collapsed": true
      },
      "outputs": [
        {
          "output_type": "stream",
          "name": "stdout",
          "text": [
            "Requirement already satisfied: matplotlib>=3.7.0 in /usr/local/lib/python3.10/dist-packages (from -r /content/drive/MyDrive/practica_image_classifier/requirements.txt (line 1)) (3.7.1)\n",
            "Requirement already satisfied: numpy>=1.24.2 in /usr/local/lib/python3.10/dist-packages (from -r /content/drive/MyDrive/practica_image_classifier/requirements.txt (line 2)) (1.25.2)\n",
            "Requirement already satisfied: opencv-python>=4.1.2 in /usr/local/lib/python3.10/dist-packages (from -r /content/drive/MyDrive/practica_image_classifier/requirements.txt (line 3)) (4.8.0.76)\n",
            "Requirement already satisfied: pandas>=1.5.3 in /usr/local/lib/python3.10/dist-packages (from -r /content/drive/MyDrive/practica_image_classifier/requirements.txt (line 4)) (2.0.3)\n",
            "Requirement already satisfied: scikit-learn in /usr/local/lib/python3.10/dist-packages (from -r /content/drive/MyDrive/practica_image_classifier/requirements.txt (line 5)) (1.2.2)\n",
            "Requirement already satisfied: seaborn>=0.12.2 in /usr/local/lib/python3.10/dist-packages (from -r /content/drive/MyDrive/practica_image_classifier/requirements.txt (line 6)) (0.13.1)\n",
            "Requirement already satisfied: sympy>=1.10.1 in /usr/local/lib/python3.10/dist-packages (from -r /content/drive/MyDrive/practica_image_classifier/requirements.txt (line 7)) (1.12.1)\n",
            "Requirement already satisfied: tensorflow>=0.0.0 in /usr/local/lib/python3.10/dist-packages (from -r /content/drive/MyDrive/practica_image_classifier/requirements.txt (line 8)) (2.15.0)\n",
            "Requirement already satisfied: contourpy>=1.0.1 in /usr/local/lib/python3.10/dist-packages (from matplotlib>=3.7.0->-r /content/drive/MyDrive/practica_image_classifier/requirements.txt (line 1)) (1.2.1)\n",
            "Requirement already satisfied: cycler>=0.10 in /usr/local/lib/python3.10/dist-packages (from matplotlib>=3.7.0->-r /content/drive/MyDrive/practica_image_classifier/requirements.txt (line 1)) (0.12.1)\n",
            "Requirement already satisfied: fonttools>=4.22.0 in /usr/local/lib/python3.10/dist-packages (from matplotlib>=3.7.0->-r /content/drive/MyDrive/practica_image_classifier/requirements.txt (line 1)) (4.52.4)\n",
            "Requirement already satisfied: kiwisolver>=1.0.1 in /usr/local/lib/python3.10/dist-packages (from matplotlib>=3.7.0->-r /content/drive/MyDrive/practica_image_classifier/requirements.txt (line 1)) (1.4.5)\n",
            "Requirement already satisfied: packaging>=20.0 in /usr/local/lib/python3.10/dist-packages (from matplotlib>=3.7.0->-r /content/drive/MyDrive/practica_image_classifier/requirements.txt (line 1)) (24.0)\n",
            "Requirement already satisfied: pillow>=6.2.0 in /usr/local/lib/python3.10/dist-packages (from matplotlib>=3.7.0->-r /content/drive/MyDrive/practica_image_classifier/requirements.txt (line 1)) (9.4.0)\n",
            "Requirement already satisfied: pyparsing>=2.3.1 in /usr/local/lib/python3.10/dist-packages (from matplotlib>=3.7.0->-r /content/drive/MyDrive/practica_image_classifier/requirements.txt (line 1)) (3.1.2)\n",
            "Requirement already satisfied: python-dateutil>=2.7 in /usr/local/lib/python3.10/dist-packages (from matplotlib>=3.7.0->-r /content/drive/MyDrive/practica_image_classifier/requirements.txt (line 1)) (2.8.2)\n",
            "Requirement already satisfied: pytz>=2020.1 in /usr/local/lib/python3.10/dist-packages (from pandas>=1.5.3->-r /content/drive/MyDrive/practica_image_classifier/requirements.txt (line 4)) (2023.4)\n",
            "Requirement already satisfied: tzdata>=2022.1 in /usr/local/lib/python3.10/dist-packages (from pandas>=1.5.3->-r /content/drive/MyDrive/practica_image_classifier/requirements.txt (line 4)) (2024.1)\n",
            "Requirement already satisfied: scipy>=1.3.2 in /usr/local/lib/python3.10/dist-packages (from scikit-learn->-r /content/drive/MyDrive/practica_image_classifier/requirements.txt (line 5)) (1.11.4)\n",
            "Requirement already satisfied: joblib>=1.1.1 in /usr/local/lib/python3.10/dist-packages (from scikit-learn->-r /content/drive/MyDrive/practica_image_classifier/requirements.txt (line 5)) (1.4.2)\n",
            "Requirement already satisfied: threadpoolctl>=2.0.0 in /usr/local/lib/python3.10/dist-packages (from scikit-learn->-r /content/drive/MyDrive/practica_image_classifier/requirements.txt (line 5)) (3.5.0)\n",
            "Requirement already satisfied: mpmath<1.4.0,>=1.1.0 in /usr/local/lib/python3.10/dist-packages (from sympy>=1.10.1->-r /content/drive/MyDrive/practica_image_classifier/requirements.txt (line 7)) (1.3.0)\n",
            "Requirement already satisfied: absl-py>=1.0.0 in /usr/local/lib/python3.10/dist-packages (from tensorflow>=0.0.0->-r /content/drive/MyDrive/practica_image_classifier/requirements.txt (line 8)) (1.4.0)\n",
            "Requirement already satisfied: astunparse>=1.6.0 in /usr/local/lib/python3.10/dist-packages (from tensorflow>=0.0.0->-r /content/drive/MyDrive/practica_image_classifier/requirements.txt (line 8)) (1.6.3)\n",
            "Requirement already satisfied: flatbuffers>=23.5.26 in /usr/local/lib/python3.10/dist-packages (from tensorflow>=0.0.0->-r /content/drive/MyDrive/practica_image_classifier/requirements.txt (line 8)) (24.3.25)\n",
            "Requirement already satisfied: gast!=0.5.0,!=0.5.1,!=0.5.2,>=0.2.1 in /usr/local/lib/python3.10/dist-packages (from tensorflow>=0.0.0->-r /content/drive/MyDrive/practica_image_classifier/requirements.txt (line 8)) (0.5.4)\n",
            "Requirement already satisfied: google-pasta>=0.1.1 in /usr/local/lib/python3.10/dist-packages (from tensorflow>=0.0.0->-r /content/drive/MyDrive/practica_image_classifier/requirements.txt (line 8)) (0.2.0)\n",
            "Requirement already satisfied: h5py>=2.9.0 in /usr/local/lib/python3.10/dist-packages (from tensorflow>=0.0.0->-r /content/drive/MyDrive/practica_image_classifier/requirements.txt (line 8)) (3.9.0)\n",
            "Requirement already satisfied: libclang>=13.0.0 in /usr/local/lib/python3.10/dist-packages (from tensorflow>=0.0.0->-r /content/drive/MyDrive/practica_image_classifier/requirements.txt (line 8)) (18.1.1)\n",
            "Requirement already satisfied: ml-dtypes~=0.2.0 in /usr/local/lib/python3.10/dist-packages (from tensorflow>=0.0.0->-r /content/drive/MyDrive/practica_image_classifier/requirements.txt (line 8)) (0.2.0)\n",
            "Requirement already satisfied: opt-einsum>=2.3.2 in /usr/local/lib/python3.10/dist-packages (from tensorflow>=0.0.0->-r /content/drive/MyDrive/practica_image_classifier/requirements.txt (line 8)) (3.3.0)\n",
            "Requirement already satisfied: protobuf!=4.21.0,!=4.21.1,!=4.21.2,!=4.21.3,!=4.21.4,!=4.21.5,<5.0.0dev,>=3.20.3 in /usr/local/lib/python3.10/dist-packages (from tensorflow>=0.0.0->-r /content/drive/MyDrive/practica_image_classifier/requirements.txt (line 8)) (3.20.3)\n",
            "Requirement already satisfied: setuptools in /usr/local/lib/python3.10/dist-packages (from tensorflow>=0.0.0->-r /content/drive/MyDrive/practica_image_classifier/requirements.txt (line 8)) (67.7.2)\n",
            "Requirement already satisfied: six>=1.12.0 in /usr/local/lib/python3.10/dist-packages (from tensorflow>=0.0.0->-r /content/drive/MyDrive/practica_image_classifier/requirements.txt (line 8)) (1.16.0)\n",
            "Requirement already satisfied: termcolor>=1.1.0 in /usr/local/lib/python3.10/dist-packages (from tensorflow>=0.0.0->-r /content/drive/MyDrive/practica_image_classifier/requirements.txt (line 8)) (2.4.0)\n",
            "Requirement already satisfied: typing-extensions>=3.6.6 in /usr/local/lib/python3.10/dist-packages (from tensorflow>=0.0.0->-r /content/drive/MyDrive/practica_image_classifier/requirements.txt (line 8)) (4.12.0)\n",
            "Requirement already satisfied: wrapt<1.15,>=1.11.0 in /usr/local/lib/python3.10/dist-packages (from tensorflow>=0.0.0->-r /content/drive/MyDrive/practica_image_classifier/requirements.txt (line 8)) (1.14.1)\n",
            "Requirement already satisfied: tensorflow-io-gcs-filesystem>=0.23.1 in /usr/local/lib/python3.10/dist-packages (from tensorflow>=0.0.0->-r /content/drive/MyDrive/practica_image_classifier/requirements.txt (line 8)) (0.37.0)\n",
            "Requirement already satisfied: grpcio<2.0,>=1.24.3 in /usr/local/lib/python3.10/dist-packages (from tensorflow>=0.0.0->-r /content/drive/MyDrive/practica_image_classifier/requirements.txt (line 8)) (1.64.0)\n",
            "Requirement already satisfied: tensorboard<2.16,>=2.15 in /usr/local/lib/python3.10/dist-packages (from tensorflow>=0.0.0->-r /content/drive/MyDrive/practica_image_classifier/requirements.txt (line 8)) (2.15.2)\n",
            "Requirement already satisfied: tensorflow-estimator<2.16,>=2.15.0 in /usr/local/lib/python3.10/dist-packages (from tensorflow>=0.0.0->-r /content/drive/MyDrive/practica_image_classifier/requirements.txt (line 8)) (2.15.0)\n",
            "Requirement already satisfied: keras<2.16,>=2.15.0 in /usr/local/lib/python3.10/dist-packages (from tensorflow>=0.0.0->-r /content/drive/MyDrive/practica_image_classifier/requirements.txt (line 8)) (2.15.0)\n",
            "Requirement already satisfied: wheel<1.0,>=0.23.0 in /usr/local/lib/python3.10/dist-packages (from astunparse>=1.6.0->tensorflow>=0.0.0->-r /content/drive/MyDrive/practica_image_classifier/requirements.txt (line 8)) (0.43.0)\n",
            "Requirement already satisfied: google-auth<3,>=1.6.3 in /usr/local/lib/python3.10/dist-packages (from tensorboard<2.16,>=2.15->tensorflow>=0.0.0->-r /content/drive/MyDrive/practica_image_classifier/requirements.txt (line 8)) (2.27.0)\n",
            "Requirement already satisfied: google-auth-oauthlib<2,>=0.5 in /usr/local/lib/python3.10/dist-packages (from tensorboard<2.16,>=2.15->tensorflow>=0.0.0->-r /content/drive/MyDrive/practica_image_classifier/requirements.txt (line 8)) (1.2.0)\n",
            "Requirement already satisfied: markdown>=2.6.8 in /usr/local/lib/python3.10/dist-packages (from tensorboard<2.16,>=2.15->tensorflow>=0.0.0->-r /content/drive/MyDrive/practica_image_classifier/requirements.txt (line 8)) (3.6)\n",
            "Requirement already satisfied: requests<3,>=2.21.0 in /usr/local/lib/python3.10/dist-packages (from tensorboard<2.16,>=2.15->tensorflow>=0.0.0->-r /content/drive/MyDrive/practica_image_classifier/requirements.txt (line 8)) (2.31.0)\n",
            "Requirement already satisfied: tensorboard-data-server<0.8.0,>=0.7.0 in /usr/local/lib/python3.10/dist-packages (from tensorboard<2.16,>=2.15->tensorflow>=0.0.0->-r /content/drive/MyDrive/practica_image_classifier/requirements.txt (line 8)) (0.7.2)\n",
            "Requirement already satisfied: werkzeug>=1.0.1 in /usr/local/lib/python3.10/dist-packages (from tensorboard<2.16,>=2.15->tensorflow>=0.0.0->-r /content/drive/MyDrive/practica_image_classifier/requirements.txt (line 8)) (3.0.3)\n",
            "Requirement already satisfied: cachetools<6.0,>=2.0.0 in /usr/local/lib/python3.10/dist-packages (from google-auth<3,>=1.6.3->tensorboard<2.16,>=2.15->tensorflow>=0.0.0->-r /content/drive/MyDrive/practica_image_classifier/requirements.txt (line 8)) (5.3.3)\n",
            "Requirement already satisfied: pyasn1-modules>=0.2.1 in /usr/local/lib/python3.10/dist-packages (from google-auth<3,>=1.6.3->tensorboard<2.16,>=2.15->tensorflow>=0.0.0->-r /content/drive/MyDrive/practica_image_classifier/requirements.txt (line 8)) (0.4.0)\n",
            "Requirement already satisfied: rsa<5,>=3.1.4 in /usr/local/lib/python3.10/dist-packages (from google-auth<3,>=1.6.3->tensorboard<2.16,>=2.15->tensorflow>=0.0.0->-r /content/drive/MyDrive/practica_image_classifier/requirements.txt (line 8)) (4.9)\n",
            "Requirement already satisfied: requests-oauthlib>=0.7.0 in /usr/local/lib/python3.10/dist-packages (from google-auth-oauthlib<2,>=0.5->tensorboard<2.16,>=2.15->tensorflow>=0.0.0->-r /content/drive/MyDrive/practica_image_classifier/requirements.txt (line 8)) (1.3.1)\n",
            "Requirement already satisfied: charset-normalizer<4,>=2 in /usr/local/lib/python3.10/dist-packages (from requests<3,>=2.21.0->tensorboard<2.16,>=2.15->tensorflow>=0.0.0->-r /content/drive/MyDrive/practica_image_classifier/requirements.txt (line 8)) (3.3.2)\n",
            "Requirement already satisfied: idna<4,>=2.5 in /usr/local/lib/python3.10/dist-packages (from requests<3,>=2.21.0->tensorboard<2.16,>=2.15->tensorflow>=0.0.0->-r /content/drive/MyDrive/practica_image_classifier/requirements.txt (line 8)) (3.7)\n",
            "Requirement already satisfied: urllib3<3,>=1.21.1 in /usr/local/lib/python3.10/dist-packages (from requests<3,>=2.21.0->tensorboard<2.16,>=2.15->tensorflow>=0.0.0->-r /content/drive/MyDrive/practica_image_classifier/requirements.txt (line 8)) (2.0.7)\n",
            "Requirement already satisfied: certifi>=2017.4.17 in /usr/local/lib/python3.10/dist-packages (from requests<3,>=2.21.0->tensorboard<2.16,>=2.15->tensorflow>=0.0.0->-r /content/drive/MyDrive/practica_image_classifier/requirements.txt (line 8)) (2024.2.2)\n",
            "Requirement already satisfied: MarkupSafe>=2.1.1 in /usr/local/lib/python3.10/dist-packages (from werkzeug>=1.0.1->tensorboard<2.16,>=2.15->tensorflow>=0.0.0->-r /content/drive/MyDrive/practica_image_classifier/requirements.txt (line 8)) (2.1.5)\n",
            "Requirement already satisfied: pyasn1<0.7.0,>=0.4.6 in /usr/local/lib/python3.10/dist-packages (from pyasn1-modules>=0.2.1->google-auth<3,>=1.6.3->tensorboard<2.16,>=2.15->tensorflow>=0.0.0->-r /content/drive/MyDrive/practica_image_classifier/requirements.txt (line 8)) (0.6.0)\n",
            "Requirement already satisfied: oauthlib>=3.0.0 in /usr/local/lib/python3.10/dist-packages (from requests-oauthlib>=0.7.0->google-auth-oauthlib<2,>=0.5->tensorboard<2.16,>=2.15->tensorflow>=0.0.0->-r /content/drive/MyDrive/practica_image_classifier/requirements.txt (line 8)) (3.2.2)\n"
          ]
        }
      ],
      "source": [
        "pip install  -r /content/drive/MyDrive/practica_image_classifier/requirements.txt"
      ]
    },
    {
      "cell_type": "code",
      "execution_count": null,
      "metadata": {
        "id": "3_HX4m14pQQi"
      },
      "outputs": [],
      "source": [
        "# Importacion de librerias necesarias\n",
        "import os\n",
        "import matplotlib.pyplot as plt\n",
        "import cv2\n",
        "import numpy as np\n",
        "import shutil\n",
        "from tensorflow import keras\n",
        "from tensorflow.keras import mixed_precision\n",
        "import tensorflow as tf\n",
        "from keras.preprocessing.image import ImageDataGenerator\n",
        "from tensorflow.keras.models import Sequential\n",
        "from tensorflow.keras.optimizers import Adam\n",
        "from tensorflow.keras.layers import Conv2D, MaxPooling2D, Flatten, Dense, Dropout\n",
        "# Definir precision mixta para el entrenamiento (menor consumo de memoria)\n",
        "policy = mixed_precision.Policy('mixed_float16')\n",
        "mixed_precision.set_global_policy(policy)\n"
      ]
    },
    {
      "cell_type": "code",
      "execution_count": null,
      "metadata": {
        "colab": {
          "base_uri": "https://localhost:8080/"
        },
        "id": "HeaTqP1htrIA",
        "outputId": "94cce7b8-6a56-499b-e3a2-e1fbe5818c64"
      },
      "outputs": [
        {
          "output_type": "stream",
          "name": "stdout",
          "text": [
            "Drive already mounted at /content/drive; to attempt to forcibly remount, call drive.mount(\"/content/drive\", force_remount=True).\n"
          ]
        }
      ],
      "source": [
        "# Montar Google Drive\n",
        "from google.colab import drive\n",
        "drive.mount('/content/drive')\n",
        "\n",
        "# descomprimir archivo de imaneges principal\n",
        "#!unzip '/content/drive/MyDrive/practica_image_classifier/dogs-vs-cats.zip' -d '/content/drive/MyDrive/practica_image_classifier/data'\n"
      ]
    },
    {
      "cell_type": "markdown",
      "source": [
        "TRATAMIENTO DE LOS DATOS"
      ],
      "metadata": {
        "id": "BpYghztvglh4"
      }
    },
    {
      "cell_type": "code",
      "execution_count": null,
      "metadata": {
        "colab": {
          "base_uri": "https://localhost:8080/"
        },
        "collapsed": true,
        "id": "USdMd_CJuR5J",
        "outputId": "6a2550b0-33ad-41ae-827a-df86a3fbe0fd"
      },
      "outputs": [
        {
          "name": "stdout",
          "output_type": "stream",
          "text": [
            "Archive:  /content/drive/MyDrive/practica_image_classifier/data/test1.zip\n",
            "replace /content/drive/MyDrive/practica_image_classifier/test1/test1/1.jpg? [y]es, [n]o, [A]ll, [N]one, [r]ename: N\n",
            "Archive:  /content/drive/MyDrive/practica_image_classifier/data/train.zip\n",
            "replace /content/drive/MyDrive/practica_image_classifier/train/train/cat.0.jpg? [y]es, [n]o, [A]ll, [N]one, [r]ename: N\n"
          ]
        }
      ],
      "source": [
        "# descomprimir archivo de imagenes train y test\n",
        "'''!unzip '/content/drive/MyDrive/practica_image_classifier/data/test1.zip' -d '/content/drive/MyDrive/practica_image_classifier/test1'\n",
        "!unzip '/content/drive/MyDrive/practica_image_classifier/data/train.zip' -d '/content/drive/MyDrive/practica_image_classifier/train''''\n"
      ]
    },
    {
      "cell_type": "code",
      "source": [
        "# Definir ruta de los datos\n",
        "ruta_train = '/content/drive/MyDrive/practica_image_classifier/train/train'\n",
        "ruta_test = '/content/drive/MyDrive/practica_image_classifier/test1'"
      ],
      "metadata": {
        "id": "HNZmxGN_iJnY"
      },
      "execution_count": null,
      "outputs": []
    },
    {
      "cell_type": "code",
      "source": [
        "# Dvision de las etiquetas de las fotografias\n",
        "\n",
        "# Rutas a los directorios\n",
        "base_dir = \"/content/drive/MyDrive/practica_image_classifier/train/train\"\n",
        "subdirs = ['perros', 'gatos']\n",
        "\n",
        "# Crear subdirectorios\n",
        "for subdir in subdirs:\n",
        "    subdir_path = os.path.join(base_dir, subdir)\n",
        "    os.makedirs(subdir_path, exist_ok=True)\n",
        "\n",
        "# Mover las imágenes a los subdirectorios correspondientes\n",
        "for file in os.listdir(base_dir):\n",
        "    file_path = os.path.join(base_dir, file)\n",
        "    if os.path.isfile(file_path):\n",
        "        if 'dog' in file.lower():\n",
        "            shutil.move(file_path, os.path.join(base_dir, 'perros', file))\n",
        "        elif 'cat' in file.lower():\n",
        "            shutil.move(file_path, os.path.join(base_dir, 'gatos', file))\n",
        "\n"
      ],
      "metadata": {
        "id": "K7mDz1F7qAyJ"
      },
      "execution_count": null,
      "outputs": []
    },
    {
      "cell_type": "markdown",
      "source": [
        "PRUEBA DE PRESENCIA DE GPU"
      ],
      "metadata": {
        "id": "l8_ozjuJgpgk"
      }
    },
    {
      "cell_type": "code",
      "source": [
        "# Test presencia GPU\n",
        "if tf.test.gpu_device_name():\n",
        "    print(\"Default GPU Device: {}\".format(tf.test.gpu_device_name()))\n",
        "else:\n",
        "    print(\"Please install GPU version of TF\")\n"
      ],
      "metadata": {
        "colab": {
          "base_uri": "https://localhost:8080/"
        },
        "id": "aitrOLGIyD9d",
        "outputId": "36839cba-61ba-4432-9562-b8b578a68788"
      },
      "execution_count": null,
      "outputs": [
        {
          "output_type": "stream",
          "name": "stdout",
          "text": [
            "Default GPU Device: /device:GPU:0\n"
          ]
        }
      ]
    },
    {
      "cell_type": "code",
      "execution_count": null,
      "metadata": {
        "id": "zbzMJ8LupUM2",
        "colab": {
          "base_uri": "https://localhost:8080/"
        },
        "outputId": "a4327630-6a54-4f2e-c960-b5d2fbb0bb45"
      },
      "outputs": [
        {
          "output_type": "stream",
          "name": "stdout",
          "text": [
            "Found 20000 images belonging to 2 classes.\n",
            "Found 5000 images belonging to 2 classes.\n",
            "Epoch 1/10\n",
            "625/625 [==============================] - 88s 131ms/step - loss: 0.7418 - accuracy: 0.5341 - val_loss: 0.6493 - val_accuracy: 0.6244\n",
            "Epoch 2/10\n",
            "625/625 [==============================] - 81s 130ms/step - loss: 0.6326 - accuracy: 0.6429 - val_loss: 0.6055 - val_accuracy: 0.6767\n",
            "Epoch 3/10\n",
            "625/625 [==============================] - 81s 130ms/step - loss: 0.5542 - accuracy: 0.7229 - val_loss: 0.5222 - val_accuracy: 0.7382\n",
            "Epoch 4/10\n",
            "625/625 [==============================] - 79s 127ms/step - loss: 0.4713 - accuracy: 0.7742 - val_loss: 0.4561 - val_accuracy: 0.7917\n",
            "Epoch 5/10\n",
            "625/625 [==============================] - 79s 127ms/step - loss: 0.4213 - accuracy: 0.8082 - val_loss: 0.4472 - val_accuracy: 0.7867\n",
            "Epoch 6/10\n",
            "625/625 [==============================] - 79s 127ms/step - loss: 0.3734 - accuracy: 0.8332 - val_loss: 0.4494 - val_accuracy: 0.7875\n",
            "Epoch 7/10\n",
            "625/625 [==============================] - 78s 125ms/step - loss: 0.3203 - accuracy: 0.8606 - val_loss: 0.3928 - val_accuracy: 0.8229\n",
            "Epoch 8/10\n",
            "625/625 [==============================] - 72s 116ms/step - loss: 0.2678 - accuracy: 0.8867 - val_loss: 0.4030 - val_accuracy: 0.8247\n",
            "Epoch 9/10\n",
            "625/625 [==============================] - 69s 110ms/step - loss: 0.2208 - accuracy: 0.9094 - val_loss: 0.4143 - val_accuracy: 0.8237\n",
            "Epoch 10/10\n",
            "625/625 [==============================] - 70s 112ms/step - loss: 0.1744 - accuracy: 0.9307 - val_loss: 0.4213 - val_accuracy: 0.8307\n"
          ]
        },
        {
          "output_type": "execute_result",
          "data": {
            "text/plain": [
              "<keras.src.callbacks.History at 0x7b967b94e3e0>"
            ]
          },
          "metadata": {},
          "execution_count": 3
        }
      ],
      "source": [
        "# Configurar el generador de imágenes con un split para validación\n",
        "datagen = ImageDataGenerator(\n",
        "    rescale=1./255,\n",
        "    validation_split=0.2  # defino el 20% de los datos para validacion\n",
        ")\n",
        "\n",
        "# Generador para datos de entrenamiento\n",
        "trdata = datagen.flow_from_directory(\n",
        "    ruta_train,\n",
        "    target_size=(150, 150),\n",
        "    batch_size=32,\n",
        "    class_mode='binary',\n",
        "    subset='training'  # Especifica que esto es para entrenamiento\n",
        ")\n",
        "\n",
        "# Generador para datos de validación\n",
        "val_data = datagen.flow_from_directory(\n",
        "    ruta_train,\n",
        "    target_size=(150, 150),\n",
        "    batch_size=32,\n",
        "    class_mode='binary',\n",
        "    subset='validation'\n",
        ")\n",
        "\n",
        "\n",
        "# Modelo simplificado // menos costo computacional\n",
        "model = Sequential([\n",
        "    Conv2D(32, (3, 3), activation='relu', input_shape=(150, 150, 3)),\n",
        "    MaxPooling2D(2, 2),\n",
        "    Dropout(0.25),  # Dropout para reducir overfitting\n",
        "\n",
        "    Conv2D(64, (3, 3), activation='relu'),\n",
        "    MaxPooling2D(2, 2),\n",
        "    Dropout(0.25),\n",
        "\n",
        "    Conv2D(128, (3, 3), activation='relu'),\n",
        "    MaxPooling2D(2, 2),\n",
        "    Dropout(0.25),\n",
        "\n",
        "    Flatten(),\n",
        "    Dense(512, activation='relu'),\n",
        "    Dropout(0.5),\n",
        "    Dense(1, activation='sigmoid')\n",
        "])\n",
        "# Compilar modelo\n",
        "model.compile(optimizer='adam', loss='binary_crossentropy', metrics=['accuracy'])\n",
        "\n",
        "# filtro para posibles imagenes corruptas\n",
        "def safe_generator(generator):\n",
        "    while True:\n",
        "        try:\n",
        "            data = next(generator)\n",
        "            yield data\n",
        "        except Exception as e:\n",
        "            print(\"Omitiendo imagen corrupta: \", e)\n",
        "            continue\n",
        "\n",
        "# aplicar generador seguro\n",
        "train_gen_safe = safe_generator(trdata)\n",
        "val_gen_safe = safe_generator(val_data)\n",
        "\n",
        "# entrenamiento\n",
        "model.fit(\n",
        "    train_gen_safe,\n",
        "    steps_per_epoch=trdata.samples // trdata.batch_size,\n",
        "    epochs=10,\n",
        "    validation_data=val_gen_safe,\n",
        "    validation_steps=val_data.samples // val_data.batch_size\n",
        ")\n"
      ]
    },
    {
      "cell_type": "code",
      "source": [
        "# Función para visualizar imágenes del generador\n",
        "def plot_images(images_arr, labels):\n",
        "    fig, axes = plt.subplots(1, 10, figsize=(20,20))\n",
        "    axes = axes.flatten()\n",
        "    for img, ax, label in zip(images_arr, axes, labels):\n",
        "        ax.imshow(img)\n",
        "        ax.axis('off')\n",
        "        ax.set_title(label)\n",
        "    plt.tight_layout()\n",
        "    plt.show()\n",
        "\n",
        "# Obtener un lote de imágenes y etiquetas\n",
        "images, labels = next(trdata)\n",
        "\n",
        "# Muestra las imágenes y etiquetas\n",
        "plot_images(images, labels)\n"
      ],
      "metadata": {
        "id": "Mwz6hbw64FLx"
      },
      "execution_count": null,
      "outputs": []
    },
    {
      "cell_type": "code",
      "source": [
        "# Comprobar las clases asignadas por el generador\n",
        "print(trdata.class_indices)\n"
      ],
      "metadata": {
        "colab": {
          "base_uri": "https://localhost:8080/"
        },
        "id": "t0IOE8kl4TMO",
        "outputId": "ec07b76d-fed3-468e-abcb-ea00470b9ddc"
      },
      "execution_count": null,
      "outputs": [
        {
          "output_type": "stream",
          "name": "stdout",
          "text": [
            "{'gatos': 0, 'perros': 1}\n"
          ]
        }
      ]
    },
    {
      "cell_type": "code",
      "source": [
        "# Guardar el Modelo\n",
        "model.save('/content/drive/MyDrive/practica_image_classifier/imag_class_model.h5')"
      ],
      "metadata": {
        "id": "FLnBZ0MLMVRU"
      },
      "execution_count": null,
      "outputs": []
    },
    {
      "cell_type": "code",
      "execution_count": null,
      "metadata": {
        "id": "afoXSRCJqAJa",
        "colab": {
          "base_uri": "https://localhost:8080/"
        },
        "outputId": "4dc10f69-0512-4722-f6bd-ecd342007879"
      },
      "outputs": [
        {
          "output_type": "stream",
          "name": "stdout",
          "text": [
            "  22323/Unknown - 2217s 99ms/step - loss: 0.3777 - accuracy: 0.8466"
          ]
        }
      ],
      "source": [
        "# Evaluar el modelo en el conjunto de validación\n",
        "val_loss, val_accuracy = model.evaluate(val_gen_safe)\n",
        "print(\"Validation Loss:\", val_loss)\n",
        "print(\"Validation Accuracy:\", val_accuracy)\n"
      ]
    }
  ],
  "metadata": {
    "accelerator": "GPU",
    "colab": {
      "gpuType": "L4",
      "machine_shape": "hm",
      "provenance": [],
      "mount_file_id": "1PAYAMdwjp_9KMaNoaqzW1bze03EZ6E72",
      "authorship_tag": "ABX9TyOuKx+gysmbPL49f8NP9lA4",
      "include_colab_link": true
    },
    "kernelspec": {
      "display_name": "Python 3",
      "name": "python3"
    },
    "language_info": {
      "name": "python"
    }
  },
  "nbformat": 4,
  "nbformat_minor": 0
}